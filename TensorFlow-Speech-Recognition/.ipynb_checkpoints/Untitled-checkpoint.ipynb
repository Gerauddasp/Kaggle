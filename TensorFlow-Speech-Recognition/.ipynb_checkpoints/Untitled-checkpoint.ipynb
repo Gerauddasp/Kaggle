{
 "cells": [
  {
   "cell_type": "markdown",
   "metadata": {},
   "source": [
    "# TensorFlow 101\n",
    "\n",
    "The goal of this article is to show how to get staretd with TensorFlow to the point of being able to built a convolutional neural network (CNN) and hopefully get to a decent level in the leaderboard.\n",
    "\n",
    "First things first is to install Tensorflow for this I recommend to use anaconda and install TensFlow via the conda-forge channel.\n",
    "\n",
    "```bash\n",
    "conda install -c conda-forge tensorflow\n",
    "```\n",
    "\n",
    "Now it is possible to quickly test if everything runs correctly by running the following command:"
   ]
  },
  {
   "cell_type": "code",
   "execution_count": 2,
   "metadata": {},
   "outputs": [
    {
     "name": "stdout",
     "output_type": "stream",
     "text": [
      "b'Hello, TensorFlow!'\n"
     ]
    }
   ],
   "source": [
    "import tensorflow as tf\n",
    "hello = tf.constant('Hello, TensorFlow!')\n",
    "sess = tf.Session()\n",
    "print(sess.run(hello))"
   ]
  },
  {
   "cell_type": "markdown",
   "metadata": {},
   "source": [
    "Before trying to build a CNN directly I think it's important to learn a few basics about TensorFlow. Following the tutorials here the next section is going to start with exploring a few TensorFlow commands before ending up building a CNN. Only from there will we take it to the next level with the Kaggle competition."
   ]
  },
  {
   "cell_type": "code",
   "execution_count": null,
   "metadata": {
    "collapsed": true
   },
   "outputs": [],
   "source": []
  }
 ],
 "metadata": {
  "kernelspec": {
   "display_name": "Python 3",
   "language": "python",
   "name": "python3"
  },
  "language_info": {
   "codemirror_mode": {
    "name": "ipython",
    "version": 3
   },
   "file_extension": ".py",
   "mimetype": "text/x-python",
   "name": "python",
   "nbconvert_exporter": "python",
   "pygments_lexer": "ipython3",
   "version": "3.6.1"
  }
 },
 "nbformat": 4,
 "nbformat_minor": 2
}
